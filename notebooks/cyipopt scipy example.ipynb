{
 "cells": [
  {
   "cell_type": "code",
   "execution_count": 1,
   "id": "0262cd84",
   "metadata": {},
   "outputs": [],
   "source": [
    "from jax.config import config\n",
    "# Enable 64 bit floating point precision\n",
    "config.update(\"jax_enable_x64\", True)\n",
    "\n",
    "# We use the CPU instead of GPU und mute all warnings if no GPU/TPU is found.\n",
    "config.update('jax_platform_name', 'cpu')\n",
    "\n",
    "import jax.numpy as np\n",
    "from jax import jit, grad, jacfwd, jacrev\n",
    "\n",
    "from scipy.optimize import rosen, rosen_der\n",
    "from cyipopt import minimize_ipopt\n",
    "from cyipopt import minimize_ipopt"
   ]
  },
  {
   "cell_type": "code",
   "execution_count": 2,
   "id": "6bd082b5",
   "metadata": {},
   "outputs": [
    {
     "name": "stdout",
     "output_type": "stream",
     "text": [
      "     fun: 2.1252467563132538e-18\n",
      "    info: {'x': array([1., 1., 1., 1., 1.]), 'g': array([], dtype=float64), 'obj_val': 2.1252467563132538e-18, 'mult_g': array([], dtype=float64), 'mult_x_L': array([0., 0., 0., 0., 0.]), 'mult_x_U': array([0., 0., 0., 0., 0.]), 'status': 0, 'status_msg': b'Algorithm terminated successfully at a locally optimal point, satisfying the convergence tolerances (can be specified by options).'}\n",
      " message: b'Algorithm terminated successfully at a locally optimal point, satisfying the convergence tolerances (can be specified by options).'\n",
      "    nfev: 200\n",
      "     nit: 37\n",
      "    njev: 39\n",
      "  status: 0\n",
      " success: True\n",
      "       x: array([1., 1., 1., 1., 1.])\n",
      "\n",
      "******************************************************************************\n",
      "This program contains Ipopt, a library for large-scale nonlinear optimization.\n",
      " Ipopt is released as open source code under the Eclipse Public License (EPL).\n",
      "         For more information visit https://github.com/coin-or/Ipopt\n",
      "******************************************************************************\n",
      "\n"
     ]
    }
   ],
   "source": [
    "x0 = [1.3, 0.7, 0.8, 1.9, 1.2]\n",
    "res = minimize_ipopt(rosen, x0, jac=rosen_der)\n",
    "print(res)"
   ]
  },
  {
   "cell_type": "code",
   "execution_count": 3,
   "id": "6cc1b8f7",
   "metadata": {},
   "outputs": [],
   "source": [
    "def objective(x):\n",
    "    return x[0]*x[3]*np.sum(x[:3]) + x[2]\n",
    "\n",
    "def eq_constraints(x):\n",
    "    return np.sum(x**2) - 40\n",
    "\n",
    "def ineq_constrains(x):\n",
    "    return np.prod(x) - 25"
   ]
  },
  {
   "cell_type": "code",
   "execution_count": 4,
   "id": "3a236227",
   "metadata": {},
   "outputs": [],
   "source": [
    "# jit the functions\n",
    "obj_jit = jit(objective)\n",
    "con_eq_jit = jit(eq_constraints)\n",
    "con_ineq_jit = jit(ineq_constrains)\n",
    "\n",
    "# build the derivatives and jit them\n",
    "obj_grad = jit(grad(obj_jit))  # objective gradient\n",
    "obj_hess = jit(jacrev(jacfwd(obj_jit))) # objective hessian\n",
    "con_eq_jac = jit(jacfwd(con_eq_jit))  # jacobian\n",
    "con_ineq_jac = jit(jacfwd(con_ineq_jit))  # jacobian\n",
    "con_eq_hess = jacrev(jacfwd(con_eq_jit)) # hessian\n",
    "con_eq_hessvp = jit(lambda x, v: con_eq_hess(x) * v[0]) # hessian vector-product\n",
    "con_ineq_hess = jacrev(jacfwd(con_ineq_jit))  # hessian\n",
    "con_ineq_hessvp = jit(lambda x, v: con_ineq_hess(x) * v[0]) # hessian vector-product"
   ]
  },
  {
   "cell_type": "code",
   "execution_count": 14,
   "id": "76c8dd08",
   "metadata": {},
   "outputs": [
    {
     "name": "stdout",
     "output_type": "stream",
     "text": [
      "This is Ipopt version 3.14.11, running with linear solver ma57.\n",
      "\n",
      "Number of nonzeros in equality constraint Jacobian...:        4\n",
      "Number of nonzeros in inequality constraint Jacobian.:        4\n",
      "Number of nonzeros in Lagrangian Hessian.............:       10\n",
      "\n",
      "Total number of variables............................:        4\n",
      "                     variables with only lower bounds:        0\n",
      "                variables with lower and upper bounds:        4\n",
      "                     variables with only upper bounds:        0\n",
      "Total number of equality constraints.................:        1\n",
      "Total number of inequality constraints...............:        1\n",
      "        inequality constraints with only lower bounds:        1\n",
      "   inequality constraints with lower and upper bounds:        0\n",
      "        inequality constraints with only upper bounds:        0\n",
      "\n",
      "iter    objective    inf_pr   inf_du lg(mu)  ||d||  lg(rg) alpha_du alpha_pr  ls\n",
      "   0  1.6109693e+01 1.12e+01 5.28e-01   0.0 0.00e+00    -  0.00e+00 0.00e+00   0\n",
      "   1  1.7263331e+01 7.42e-01 2.19e+01  -0.3 6.49e-01    -  3.49e-01 1.00e+00f  1\n",
      "   2  1.7829621e+01 7.24e-03 4.90e+00  -0.3 5.53e-02   2.0 9.98e-01 1.00e+00h  1\n",
      "   3  1.7353146e+01 3.91e-02 3.91e-01  -1.0 4.09e-01    -  9.96e-01 1.00e+00f  1\n",
      "   4  1.6950812e+01 1.51e-01 3.89e-02  -1.4 2.79e-01    -  9.68e-01 1.00e+00h  1\n",
      "   5  1.7002828e+01 2.33e-02 8.59e-03  -2.8 6.35e-02    -  9.69e-01 1.00e+00h  1\n",
      "   6  1.7013924e+01 3.26e-04 1.47e-04  -4.4 7.99e-03    -  9.98e-01 1.00e+00h  1\n",
      "   7  1.7014017e+01 5.42e-07 4.41e-07 -10.2 2.08e-04    -  9.99e-01 1.00e+00h  1\n",
      "   8  1.7014017e+01 9.95e-14 9.21e-14 -11.0 2.10e-07    -  1.00e+00 1.00e+00h  1\n",
      "\n",
      "Number of Iterations....: 8\n",
      "\n",
      "                                   (scaled)                 (unscaled)\n",
      "Objective...............:   1.7014017272774488e+01    1.7014017272774488e+01\n",
      "Dual infeasibility......:   9.2147180682691379e-14    9.2147180682691379e-14\n",
      "Constraint violation....:   9.9475983006414026e-14    9.9475983006414026e-14\n",
      "Variable bound violation:   9.9907189188286338e-09    9.9907189188286338e-09\n",
      "Complementarity.........:   1.0096675639168746e-11    1.0096675639168746e-11\n",
      "Overall NLP error.......:   1.0096675639168746e-11    1.0096675639168746e-11\n",
      "\n",
      "\n",
      "Number of objective function evaluations             = 9\n",
      "Number of objective gradient evaluations             = 9\n",
      "Number of equality constraint evaluations            = 9\n",
      "Number of inequality constraint evaluations          = 9\n",
      "Number of equality constraint Jacobian evaluations   = 9\n",
      "Number of inequality constraint Jacobian evaluations = 9\n",
      "Number of Lagrangian Hessian evaluations             = 8\n",
      "Total seconds in IPOPT                               = 0.019\n",
      "\n",
      "EXIT: Optimal Solution Found.\n"
     ]
    }
   ],
   "source": [
    "# constraints\n",
    "cons = [\n",
    "    {'type': 'eq', 'fun': con_eq_jit, 'jac': con_eq_jac, 'hess': con_eq_hessvp},\n",
    "    {'type': 'ineq', 'fun': con_ineq_jit, 'jac': con_ineq_jac, 'hess': con_ineq_hessvp}\n",
    " ]\n",
    "\n",
    "# starting point\n",
    "x0 = np.array([1.0, 5.0, 5.0, 1.0])\n",
    "\n",
    "# variable bounds: 1 <= x[i] <= 5\n",
    "bnds = [(1, 5) for _ in range(x0.size)]\n",
    "\n",
    "# executing the solver\n",
    "res = minimize_ipopt(obj_jit, jac=obj_grad, hess=obj_hess, x0=x0, bounds=bnds,\n",
    "                  constraints=cons, options={'disp': 5, 'linear_solver': 'ma57'})"
   ]
  },
  {
   "cell_type": "code",
   "execution_count": 6,
   "id": "f7c8266e",
   "metadata": {},
   "outputs": [
    {
     "ename": "TypeError",
     "evalue": "zeros() missing 1 required positional argument: 'shape'",
     "output_type": "error",
     "traceback": [
      "\u001b[0;31m---------------------------------------------------------------------------\u001b[0m",
      "\u001b[0;31mTypeError\u001b[0m                                 Traceback (most recent call last)",
      "Input \u001b[0;32mIn [6]\u001b[0m, in \u001b[0;36m<cell line: 1>\u001b[0;34m()\u001b[0m\n\u001b[0;32m----> 1\u001b[0m \u001b[43mnp\u001b[49m\u001b[38;5;241;43m.\u001b[39;49m\u001b[43mzeros\u001b[49m\u001b[43m(\u001b[49m\u001b[43m)\u001b[49m\n",
      "\u001b[0;31mTypeError\u001b[0m: zeros() missing 1 required positional argument: 'shape'"
     ]
    }
   ],
   "source": [
    "np.zeros()"
   ]
  },
  {
   "cell_type": "code",
   "execution_count": 15,
   "id": "c92ada73",
   "metadata": {},
   "outputs": [
    {
     "data": {
      "text/plain": [
       "(Array([0, 1, 1, 2, 2, 2, 3, 3, 3, 3], dtype=int64),\n",
       " Array([0, 0, 1, 0, 1, 2, 0, 1, 2, 3], dtype=int64))"
      ]
     },
     "execution_count": 15,
     "metadata": {},
     "output_type": "execute_result"
    }
   ],
   "source": [
    "np.nonzero(np.tril(np.ones((4, 4))))"
   ]
  },
  {
   "cell_type": "code",
   "execution_count": 17,
   "id": "92a8d4f9",
   "metadata": {},
   "outputs": [
    {
     "data": {
      "text/plain": [
       "Array([[1., 0., 0., 0.],\n",
       "       [1., 1., 0., 0.],\n",
       "       [1., 1., 1., 0.],\n",
       "       [1., 1., 1., 1.]], dtype=float64)"
      ]
     },
     "execution_count": 17,
     "metadata": {},
     "output_type": "execute_result"
    }
   ],
   "source": [
    "np.tril(np.ones((4, 4)))"
   ]
  },
  {
   "cell_type": "code",
   "execution_count": 22,
   "id": "f67c7c4c",
   "metadata": {},
   "outputs": [
    {
     "ename": "ValueError",
     "evalue": "Non-hashable static arguments are not supported. An error occurred during a call to 'append' while trying to hash an object of type <class 'jaxlib.xla_extension.Array'>, [5 6]. The error was:\nTypeError: unhashable type: 'Array'\n",
     "output_type": "error",
     "traceback": [
      "\u001b[0;31m---------------------------------------------------------------------------\u001b[0m",
      "\u001b[0;31mValueError\u001b[0m                                Traceback (most recent call last)",
      "Input \u001b[0;32mIn [22]\u001b[0m, in \u001b[0;36m<cell line: 1>\u001b[0;34m()\u001b[0m\n\u001b[0;32m----> 1\u001b[0m \u001b[43mnp\u001b[49m\u001b[38;5;241;43m.\u001b[39;49m\u001b[43mappend\u001b[49m\u001b[43m(\u001b[49m\u001b[43m \u001b[49m\u001b[43mnp\u001b[49m\u001b[38;5;241;43m.\u001b[39;49m\u001b[43marray\u001b[49m\u001b[43m(\u001b[49m\u001b[43m[\u001b[49m\u001b[38;5;241;43m1\u001b[39;49m\u001b[43m,\u001b[49m\u001b[38;5;241;43m2\u001b[39;49m\u001b[43m]\u001b[49m\u001b[43m)\u001b[49m\u001b[43m,\u001b[49m\u001b[43m \u001b[49m\u001b[43mnp\u001b[49m\u001b[38;5;241;43m.\u001b[39;49m\u001b[43marray\u001b[49m\u001b[43m(\u001b[49m\u001b[43m[\u001b[49m\u001b[38;5;241;43m2\u001b[39;49m\u001b[43m,\u001b[49m\u001b[38;5;241;43m3\u001b[39;49m\u001b[43m]\u001b[49m\u001b[43m)\u001b[49m\u001b[43m,\u001b[49m\u001b[43m \u001b[49m\u001b[43mnp\u001b[49m\u001b[38;5;241;43m.\u001b[39;49m\u001b[43marray\u001b[49m\u001b[43m(\u001b[49m\u001b[43m[\u001b[49m\u001b[38;5;241;43m5\u001b[39;49m\u001b[43m,\u001b[49m\u001b[38;5;241;43m6\u001b[39;49m\u001b[43m]\u001b[49m\u001b[43m)\u001b[49m\u001b[43m \u001b[49m\u001b[43m)\u001b[49m\n",
      "\u001b[0;31mValueError\u001b[0m: Non-hashable static arguments are not supported. An error occurred during a call to 'append' while trying to hash an object of type <class 'jaxlib.xla_extension.Array'>, [5 6]. The error was:\nTypeError: unhashable type: 'Array'\n"
     ]
    }
   ],
   "source": []
  },
  {
   "cell_type": "code",
   "execution_count": 24,
   "id": "b7024b60",
   "metadata": {},
   "outputs": [
    {
     "data": {
      "text/plain": [
       "Array([[1, 0],\n",
       "       [0, 2]], dtype=int64)"
      ]
     },
     "execution_count": 24,
     "metadata": {},
     "output_type": "execute_result"
    }
   ],
   "source": [
    "np.diag(np.array([1,2]))"
   ]
  },
  {
   "cell_type": "code",
   "execution_count": 27,
   "id": "2b7cc2bd",
   "metadata": {},
   "outputs": [
    {
     "data": {
      "text/plain": [
       "Array([[[0., 0., 0.],\n",
       "        [0., 0., 0.],\n",
       "        [0., 0., 0.]],\n",
       "\n",
       "       [[0., 0., 0.],\n",
       "        [0., 0., 0.],\n",
       "        [0., 0., 0.]],\n",
       "\n",
       "       [[0., 0., 0.],\n",
       "        [0., 0., 0.],\n",
       "        [0., 0., 0.]]], dtype=float64)"
      ]
     },
     "execution_count": 27,
     "metadata": {},
     "output_type": "execute_result"
    }
   ],
   "source": [
    "np.zeros((3,3,3))"
   ]
  },
  {
   "cell_type": "code",
   "execution_count": null,
   "id": "ea7bf33c",
   "metadata": {},
   "outputs": [],
   "source": []
  }
 ],
 "metadata": {
  "kernelspec": {
   "display_name": "Python 3 (ipykernel)",
   "language": "python",
   "name": "python3"
  },
  "language_info": {
   "codemirror_mode": {
    "name": "ipython",
    "version": 3
   },
   "file_extension": ".py",
   "mimetype": "text/x-python",
   "name": "python",
   "nbconvert_exporter": "python",
   "pygments_lexer": "ipython3",
   "version": "3.8.16"
  }
 },
 "nbformat": 4,
 "nbformat_minor": 5
}
