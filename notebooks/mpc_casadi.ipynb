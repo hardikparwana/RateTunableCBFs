{
 "cells": [
  {
   "cell_type": "code",
   "execution_count": 2,
   "id": "3d099823",
   "metadata": {},
   "outputs": [],
   "source": [
    "import numpy as np\n",
    "import math\n",
    "import casadi as cd"
   ]
  },
  {
   "cell_type": "code",
   "execution_count": 4,
   "id": "f45ffc80",
   "metadata": {},
   "outputs": [],
   "source": [
    "m = 2\n",
    "n = 3\n",
    "N = 10"
   ]
  },
  {
   "cell_type": "code",
   "execution_count": 6,
   "id": "d5ccaf11",
   "metadata": {},
   "outputs": [],
   "source": [
    "X = cd.MX.sym('X',n,N)\n",
    "U = cd.MX.sym('U',m,N)"
   ]
  },
  {
   "cell_type": "code",
   "execution_count": 9,
   "id": "062b7c6c",
   "metadata": {},
   "outputs": [
    {
     "data": {
      "text/plain": [
       "MX(X)"
      ]
     },
     "execution_count": 9,
     "metadata": {},
     "output_type": "execute_result"
    }
   ],
   "source": [
    "X[0:3,:]"
   ]
  },
  {
   "cell_type": "code",
   "execution_count": null,
   "id": "8be10193",
   "metadata": {},
   "outputs": [],
   "source": []
  }
 ],
 "metadata": {
  "kernelspec": {
   "display_name": "Python 3 (ipykernel)",
   "language": "python",
   "name": "python3"
  },
  "language_info": {
   "codemirror_mode": {
    "name": "ipython",
    "version": 3
   },
   "file_extension": ".py",
   "mimetype": "text/x-python",
   "name": "python",
   "nbconvert_exporter": "python",
   "pygments_lexer": "ipython3",
   "version": "3.8.16"
  }
 },
 "nbformat": 4,
 "nbformat_minor": 5
}
