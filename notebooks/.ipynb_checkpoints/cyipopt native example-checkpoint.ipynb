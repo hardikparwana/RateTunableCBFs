{
 "cells": [
  {
   "cell_type": "code",
   "execution_count": 44,
   "id": "2d9ebff4",
   "metadata": {},
   "outputs": [],
   "source": [
    "import cyipopt\n",
    "import numpy as np\n",
    "from jax.config import config\n",
    "# Enable 64 bit floating point precision\n",
    "config.update(\"jax_enable_x64\", True)\n",
    "\n",
    "# We use the CPU instead of GPU und mute all warnings if no GPU/TPU is found.\n",
    "config.update('jax_platform_name', 'cpu')\n",
    "\n",
    "# for automatic differentiation of functions\n",
    "import jax.numpy as np\n",
    "from jax import jit, grad, jacfwd, jacrev"
   ]
  },
  {
   "cell_type": "code",
   "execution_count": 46,
   "id": "8b686d37",
   "metadata": {},
   "outputs": [],
   "source": [
    "def obj(x):\n",
    "    return x[0] * x[3] * np.sum(x[0:3]) + x[2]\n",
    "\n",
    "obj_jit = jit(obj)\n",
    "\n",
    "class HS071():\n",
    "\n",
    "    def objective(self, x):\n",
    "        \"\"\"Returns the scalar value of the objective given x.\"\"\"\n",
    "        return x[0] * x[3] * np.sum(x[0:3]) + x[2]\n",
    "#         return obj_jit(x)\n",
    "\n",
    "    def gradient(self, x):\n",
    "        \"\"\"Returns the gradient of the objective with respect to x.\"\"\"\n",
    "        return np.array([\n",
    "            x[0]*x[3] + x[3]*np.sum(x[0:3]),\n",
    "            x[0]*x[3],\n",
    "            x[0]*x[3] + 1.0,\n",
    "            x[0]*np.sum(x[0:3])\n",
    "        ])\n",
    "\n",
    "    def constraints(self, x):\n",
    "        \"\"\"Returns the constraints.\"\"\"\n",
    "        return np.array((np.prod(x), np.dot(x, x)))\n",
    "\n",
    "    def jacobian(self, x):\n",
    "        \"\"\"Returns the Jacobian of the constraints with respect to x.\"\"\"\n",
    "        return np.concatenate((np.prod(x)/x, 2*x))\n",
    "\n",
    "    def hessianstructure(self):\n",
    "        \"\"\"Returns the row and column indices for non-zero vales of the\n",
    "        Hessian.\"\"\"\n",
    "\n",
    "        # NOTE: The default hessian structure is of a lower triangular matrix,\n",
    "        # therefore this function is redundant. It is included as an example\n",
    "        # for structure callback.\n",
    "\n",
    "        return np.nonzero(np.tril(np.ones((4, 4))))\n",
    "\n",
    "    def hessian(self, x, lagrange, obj_factor):\n",
    "        \"\"\"Returns the non-zero values of the Hessian.\"\"\"\n",
    "\n",
    "        H = obj_factor*np.array((\n",
    "            (2*x[3], 0, 0, 0),\n",
    "            (x[3],   0, 0, 0),\n",
    "            (x[3],   0, 0, 0),\n",
    "            (2*x[0]+x[1]+x[2], x[0], x[0], 0))) # 4x4 here\n",
    "\n",
    "        H += lagrange[0]*np.array((\n",
    "            (0, 0, 0, 0),\n",
    "            (x[2]*x[3], 0, 0, 0),\n",
    "            (x[1]*x[3], x[0]*x[3], 0, 0),\n",
    "            (x[1]*x[2], x[0]*x[2], x[0]*x[1], 0))) # 4x4 here too\n",
    "\n",
    "        H += lagrange[1]*2*np.eye(4)\n",
    "\n",
    "        row, col = self.hessianstructure()\n",
    "\n",
    "        return H[row, col]\n",
    "\n",
    "    def intermediate(self, alg_mod, iter_count, obj_value, inf_pr, inf_du, mu,\n",
    "                     d_norm, regularization_size, alpha_du, alpha_pr,\n",
    "                     ls_trials):\n",
    "        \"\"\"Prints information at every Ipopt iteration.\"\"\"\n",
    "\n",
    "        msg = \"Objective value at iteration #{:d} is - {:g}\"\n",
    "\n",
    "        print(msg.format(iter_count, obj_value))"
   ]
  },
  {
   "cell_type": "code",
   "execution_count": 42,
   "id": "6067ca94",
   "metadata": {},
   "outputs": [],
   "source": [
    "a = HS071()"
   ]
  },
  {
   "cell_type": "code",
   "execution_count": 43,
   "id": "f01709ff",
   "metadata": {},
   "outputs": [
    {
     "ename": "TypeError",
     "evalue": "hessian() missing 2 required positional arguments: 'lagrange' and 'obj_factor'",
     "output_type": "error",
     "traceback": [
      "\u001b[0;31m---------------------------------------------------------------------------\u001b[0m",
      "\u001b[0;31mTypeError\u001b[0m                                 Traceback (most recent call last)",
      "Input \u001b[0;32mIn [43]\u001b[0m, in \u001b[0;36m<cell line: 1>\u001b[0;34m()\u001b[0m\n\u001b[0;32m----> 1\u001b[0m \u001b[43ma\u001b[49m\u001b[38;5;241;43m.\u001b[39;49m\u001b[43mhessian\u001b[49m\u001b[43m(\u001b[49m\u001b[43mnp\u001b[49m\u001b[38;5;241;43m.\u001b[39;49m\u001b[43marray\u001b[49m\u001b[43m(\u001b[49m\u001b[43m[\u001b[49m\u001b[38;5;241;43m1\u001b[39;49m\u001b[43m,\u001b[49m\u001b[38;5;241;43m1\u001b[39;49m\u001b[43m,\u001b[49m\u001b[38;5;241;43m1\u001b[39;49m\u001b[43m,\u001b[49m\u001b[38;5;241;43m1\u001b[39;49m\u001b[43m]\u001b[49m\u001b[43m)\u001b[49m\u001b[43m)\u001b[49m\n",
      "\u001b[0;31mTypeError\u001b[0m: hessian() missing 2 required positional arguments: 'lagrange' and 'obj_factor'"
     ]
    }
   ],
   "source": [
    "a.hessian(np.array([1,1,1,1]))"
   ]
  },
  {
   "cell_type": "code",
   "execution_count": 47,
   "id": "9bbcd77a",
   "metadata": {},
   "outputs": [],
   "source": [
    "lb = [1.0, 1.0, 1.0, 1.0]\n",
    "ub = [5.0, 5.0, 5.0, 5.0]\n",
    "\n",
    "cl = [25.0, 40.0]\n",
    "cu = [2.0e19, 40.0]"
   ]
  },
  {
   "cell_type": "code",
   "execution_count": 48,
   "id": "7e283e9a",
   "metadata": {},
   "outputs": [],
   "source": [
    "x0 = [1.0, 5.0, 5.0, 1.0]"
   ]
  },
  {
   "cell_type": "code",
   "execution_count": 49,
   "id": "f4cc1cfe",
   "metadata": {},
   "outputs": [],
   "source": [
    "nlp = cyipopt.Problem(\n",
    "   n=len(x0),\n",
    "   m=len(cl),\n",
    "   problem_obj=HS071(),\n",
    "   lb=lb,\n",
    "   ub=ub,\n",
    "   cl=cl,\n",
    "   cu=cu,\n",
    ")"
   ]
  },
  {
   "cell_type": "code",
   "execution_count": 50,
   "id": "ce655f46",
   "metadata": {},
   "outputs": [],
   "source": [
    "nlp.add_option('mu_strategy', 'adaptive')\n",
    "nlp.add_option('tol', 1e-7)\n",
    "nlp.add_option('linear_solver', 'ma57')\n",
    "# nlp.add_option('hsllib', 'libcoinhsl.so')"
   ]
  },
  {
   "cell_type": "code",
   "execution_count": 54,
   "id": "796531ae",
   "metadata": {},
   "outputs": [
    {
     "name": "stdout",
     "output_type": "stream",
     "text": [
      "Objective value at iteration #0 is - 16.1097\n",
      "This is Ipopt version 3.14.11, running with linear solver ma57.\n",
      "\n",
      "Number of nonzeros in equality constraint Jacobian...:        4\n",
      "Number of nonzeros in inequality constraint Jacobian.:        4\n",
      "Number of nonzeros in Lagrangian Hessian.............:       10\n",
      "\n",
      "Total number of variables............................:        4\n",
      "                     variables with only lower bounds:        0\n",
      "                variables with lower and upper bounds:        4\n",
      "                     variables with only upper bounds:        0\n",
      "Total number of equality constraints.................:        1\n",
      "Total number of inequality constraints...............:        1\n",
      "        inequality constraints with only lower bounds:        1\n",
      "   inequality constraints with lower and upper bounds:        0\n",
      "        inequality constraints with only upper bounds:        0\n",
      "\n",
      "iter    objective    inf_pr   inf_du lg(mu)  ||d||  lg(rg) alpha_du alpha_pr  ls\n",
      "   0  1.6109693e+01 1.12e+01 5.28e-01   0.0 0.00e+00    -  0.00e+00 0.00e+00   0\n",
      "Objective value at iteration #1 is - 17.4104\n",
      "   1  1.7410406e+01 7.49e-01 2.25e+01  -0.3 7.97e-01    -  3.19e-01 1.00e+00f  1\n",
      "Objective value at iteration #2 is - 18.0016\n",
      "   2  1.8001613e+01 7.52e-03 4.96e+00  -0.3 5.60e-02   2.0 9.97e-01 1.00e+00h  1\n",
      "Objective value at iteration #3 is - 17.1995\n",
      "   3  1.7199482e+01 4.00e-02 4.24e-01  -1.0 9.91e-01    -  9.98e-01 1.00e+00f  1\n",
      "Objective value at iteration #4 is - 16.941\n",
      "   4  1.6940955e+01 1.59e-01 4.58e-02  -1.4 2.88e-01    -  9.66e-01 1.00e+00h  1\n",
      "Objective value at iteration #5 is - 17.0034\n",
      "   5  1.7003411e+01 2.16e-02 8.42e-03  -2.9 7.03e-02    -  9.68e-01 1.00e+00h  1\n",
      "Objective value at iteration #6 is - 17.014\n",
      "   6  1.7013974e+01 2.03e-04 8.65e-05  -4.5 6.22e-03    -  1.00e+00 1.00e+00h  1\n",
      "Objective value at iteration #7 is - 17.014\n",
      "   7  1.7014017e+01 2.76e-07 2.18e-07 -10.3 1.43e-04    -  9.99e-01 1.00e+00h  1\n",
      "Objective value at iteration #8 is - 17.014\n",
      "   8  1.7014017e+01 2.84e-14 2.47e-14 -11.0 1.04e-07    -  1.00e+00 1.00e+00h  1\n",
      "\n",
      "Number of Iterations....: 8\n",
      "\n",
      "                                   (scaled)                 (unscaled)\n",
      "Objective...............:   1.7014017140224134e+01    1.7014017140224134e+01\n",
      "Dual infeasibility......:   2.4704458154033287e-14    2.4704458154033287e-14\n",
      "Constraint violation....:   2.8421709430404007e-14    2.8421709430404007e-14\n",
      "Variable bound violation:   9.9907857542547163e-09    9.9907857542547163e-09\n",
      "Complementarity.........:   1.0023967333275279e-11    1.0023967333275279e-11\n",
      "Overall NLP error.......:   1.0023967333275279e-11    1.0023967333275279e-11\n",
      "\n",
      "\n",
      "Number of objective function evaluations             = 9\n",
      "Number of objective gradient evaluations             = 9\n",
      "Number of equality constraint evaluations            = 9\n",
      "Number of inequality constraint evaluations          = 9\n",
      "Number of equality constraint Jacobian evaluations   = 9\n",
      "Number of inequality constraint Jacobian evaluations = 9\n",
      "Number of Lagrangian Hessian evaluations             = 8\n",
      "Total seconds in IPOPT                               = 0.082\n",
      "\n",
      "EXIT: Optimal Solution Found.\n"
     ]
    }
   ],
   "source": [
    "x, info = nlp.solve(x0)"
   ]
  },
  {
   "cell_type": "code",
   "execution_count": null,
   "id": "b86e3379",
   "metadata": {},
   "outputs": [],
   "source": []
  },
  {
   "cell_type": "code",
   "execution_count": null,
   "id": "3d02341a",
   "metadata": {},
   "outputs": [],
   "source": []
  }
 ],
 "metadata": {
  "kernelspec": {
   "display_name": "Python 3 (ipykernel)",
   "language": "python",
   "name": "python3"
  },
  "language_info": {
   "codemirror_mode": {
    "name": "ipython",
    "version": 3
   },
   "file_extension": ".py",
   "mimetype": "text/x-python",
   "name": "python",
   "nbconvert_exporter": "python",
   "pygments_lexer": "ipython3",
   "version": "3.8.16"
  }
 },
 "nbformat": 4,
 "nbformat_minor": 5
}
