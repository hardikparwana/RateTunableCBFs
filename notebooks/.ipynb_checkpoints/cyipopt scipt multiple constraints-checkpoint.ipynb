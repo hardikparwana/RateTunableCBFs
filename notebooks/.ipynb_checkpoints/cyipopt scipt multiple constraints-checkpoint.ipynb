{
 "cells": [
  {
   "cell_type": "code",
   "execution_count": 1,
   "id": "5b398619",
   "metadata": {},
   "outputs": [],
   "source": [
    "from jax.config import config\n",
    "# Enable 64 bit floating point precision\n",
    "config.update(\"jax_enable_x64\", True)\n",
    "\n",
    "# We use the CPU instead of GPU und mute all warnings if no GPU/TPU is found.\n",
    "config.update('jax_platform_name', 'cpu')\n",
    "\n",
    "import jax.numpy as np\n",
    "from jax import jit, grad, jacfwd, jacrev\n",
    "\n",
    "from cyipopt import minimize_ipopt"
   ]
  },
  {
   "cell_type": "code",
   "execution_count": 127,
   "id": "74730b18",
   "metadata": {},
   "outputs": [],
   "source": [
    "def objective(x):\n",
    "    return x[0]**2 + x[1]**2\n",
    "\n",
    "def eq_constraints(x):\n",
    "    return np.array([x[0] + 10])\n",
    "\n",
    "def test(x):\n",
    "    return -x\n",
    "\n",
    "def ineq_constraints(x):\n",
    "    return np.append(np.array([ test(x[0]) -1,\n",
    "                    test(x[1]*x[1])+6 ]),np.zeros(6))\n"
   ]
  },
  {
   "cell_type": "code",
   "execution_count": 128,
   "id": "bce9176d",
   "metadata": {},
   "outputs": [],
   "source": [
    "# jit the functions\n",
    "obj_jit = jit(objective)\n",
    "con_eq_jit = jit(eq_constraints)\n",
    "con_ineq_jit = jit(ineq_constraints)\n",
    "\n",
    "# build the derivatives and jit them\n",
    "obj_grad = jit(grad(obj_jit))  # objective gradient\n",
    "obj_hess = jit(jacrev(jacfwd(obj_jit))) # objective hessian\n",
    "con_eq_jac = jit(jacfwd(con_eq_jit))  # jacobian\n",
    "con_ineq_jac = jit(jacfwd(con_ineq_jit))  # jacobian\n",
    "con_eq_hess = jacrev(jacfwd(con_eq_jit)) # hessian\n",
    "con_eq_hessvp = jit(lambda x, v: con_eq_hess(x) * v[0]) # hessian vector-product\n",
    "con_ineq_hess = jacrev(jacfwd(con_ineq_jit))  # hessian\n",
    "con_ineq_hessvp = jit(lambda x, v: con_ineq_hess(x) * v[0]) # hessian vector-product"
   ]
  },
  {
   "cell_type": "code",
   "execution_count": 129,
   "id": "8fcbe7af",
   "metadata": {},
   "outputs": [
    {
     "name": "stdout",
     "output_type": "stream",
     "text": [
      "This is Ipopt version 3.14.11, running with linear solver ma27.\n",
      "\n",
      "Number of nonzeros in equality constraint Jacobian...:        2\n",
      "Number of nonzeros in inequality constraint Jacobian.:        4\n",
      "Number of nonzeros in Lagrangian Hessian.............:        3\n",
      "\n",
      "Total number of variables............................:        2\n",
      "                     variables with only lower bounds:        0\n",
      "                variables with lower and upper bounds:        2\n",
      "                     variables with only upper bounds:        0\n",
      "Total number of equality constraints.................:        1\n",
      "Total number of inequality constraints...............:        2\n",
      "        inequality constraints with only lower bounds:        2\n",
      "   inequality constraints with lower and upper bounds:        0\n",
      "        inequality constraints with only upper bounds:        0\n",
      "\n",
      "iter    objective    inf_pr   inf_du lg(mu)  ||d||  lg(rg) alpha_du alpha_pr  ls\n",
      "   0  1.0000000e+00 1.00e+01 1.60e+00   0.0 0.00e+00    -  0.00e+00 0.00e+00   0\n",
      "   1  1.0093713e+02 0.00e+00 1.19e+01   0.9 1.00e+01    -  7.66e-02 1.00e+00h  1\n",
      "   2  1.0002894e+02 0.00e+00 4.24e-01  -4.2 1.67e+00    -  9.79e-01 1.00e+00f  1\n",
      "   3  1.0000003e+02 0.00e+00 1.20e-02  -5.8 1.24e+00    -  9.88e-01 1.00e+00h  1\n",
      "   4  1.0000000e+02 0.00e+00 1.10e-04  -3.4 3.09e-02    -  9.97e-01 1.00e+00h  1\n",
      "   5  1.0000000e+02 0.00e+00 8.06e-07  -9.1 3.44e-05    -  9.98e-01 1.00e+00h  1\n",
      "   6  1.0000000e+02 0.00e+00 2.25e-12 -11.0 2.23e-12    -  1.00e+00 1.00e+00h  1\n",
      "\n",
      "Number of Iterations....: 6\n",
      "\n",
      "                                   (scaled)                 (unscaled)\n",
      "Objective...............:   1.0000000000000000e+02    1.0000000000000000e+02\n",
      "Dual infeasibility......:   2.2515919272724259e-12    2.2515919272724259e-12\n",
      "Constraint violation....:   0.0000000000000000e+00    0.0000000000000000e+00\n",
      "Variable bound violation:   0.0000000000000000e+00    0.0000000000000000e+00\n",
      "Complementarity.........:   2.3508953389099835e-11    2.3508953389099835e-11\n",
      "Overall NLP error.......:   2.3508953389099835e-11    2.3508953389099835e-11\n",
      "\n",
      "\n",
      "Number of objective function evaluations             = 7\n",
      "Number of objective gradient evaluations             = 7\n",
      "Number of equality constraint evaluations            = 7\n",
      "Number of inequality constraint evaluations          = 7\n",
      "Number of equality constraint Jacobian evaluations   = 7\n",
      "Number of inequality constraint Jacobian evaluations = 7\n",
      "Number of Lagrangian Hessian evaluations             = 6\n",
      "Total seconds in IPOPT                               = 0.178\n",
      "\n",
      "EXIT: Optimal Solution Found.\n"
     ]
    }
   ],
   "source": [
    "# constraints\n",
    "cons = [\n",
    "    {'type': 'eq', 'fun': con_eq_jit, 'jac': con_eq_jac, 'hess': con_eq_hessvp},\n",
    "    {'type': 'ineq', 'fun': con_ineq_jit, 'jac': con_ineq_jac, 'hess': con_ineq_hessvp}\n",
    " ]\n",
    "\n",
    "# starting point\n",
    "x0 = np.array([0.0, -1.0])\n",
    "\n",
    "# variable bounds: 1 <= x[i] <= 5\n",
    "bnds = [(-100, 100) for _ in range(x0.size)]\n",
    "\n",
    "# executing the solver\n",
    "res = minimize_ipopt(obj_jit, jac=obj_grad, hess=obj_hess, x0=x0, bounds=bnds,\n",
    "                  constraints=cons, options={'disp': 5})"
   ]
  },
  {
   "cell_type": "code",
   "execution_count": 130,
   "id": "468dadb5",
   "metadata": {},
   "outputs": [
    {
     "name": "stdout",
     "output_type": "stream",
     "text": [
      "     fun: 100.0\n",
      "    info: {'x': array([-1.00000000e+01, -7.00291389e-24]), 'g': array([0., 9., 6.]), 'obj_val': 100.0, 'mult_g': array([ 2.00000000e+01, -1.11101111e-12, -1.66656696e-12]), 'mult_x_L': array([1.43679923e-13, 1.31065611e-13]), 'mult_x_U': array([1.18271586e-13, 1.27697816e-13]), 'status': 0, 'status_msg': b'Algorithm terminated successfully at a locally optimal point, satisfying the convergence tolerances (can be specified by options).'}\n",
      " message: b'Algorithm terminated successfully at a locally optimal point, satisfying the convergence tolerances (can be specified by options).'\n",
      "    nfev: 7\n",
      "     nit: 6\n",
      "    njev: 8\n",
      "  status: 0\n",
      " success: True\n",
      "       x: array([-1.00000000e+01, -7.00291389e-24])\n"
     ]
    }
   ],
   "source": [
    "print(res)"
   ]
  },
  {
   "cell_type": "code",
   "execution_count": 131,
   "id": "442dc8d9",
   "metadata": {},
   "outputs": [
    {
     "data": {
      "text/plain": [
       "-10.0"
      ]
     },
     "execution_count": 131,
     "metadata": {},
     "output_type": "execute_result"
    }
   ],
   "source": [
    "res.x[0]"
   ]
  },
  {
   "cell_type": "code",
   "execution_count": 132,
   "id": "b34e7396",
   "metadata": {},
   "outputs": [
    {
     "data": {
      "text/plain": [
       "-7.002913893151417e-24"
      ]
     },
     "execution_count": 132,
     "metadata": {},
     "output_type": "execute_result"
    }
   ],
   "source": [
    "res.x[1]"
   ]
  },
  {
   "cell_type": "code",
   "execution_count": 101,
   "id": "1830ced4",
   "metadata": {},
   "outputs": [],
   "source": [
    "aa = np.array([1,2,3,4])"
   ]
  },
  {
   "cell_type": "code",
   "execution_count": 102,
   "id": "a9dba68a",
   "metadata": {},
   "outputs": [
    {
     "data": {
      "text/plain": [
       "Array([1, 2, 3, 4], dtype=int64)"
      ]
     },
     "execution_count": 102,
     "metadata": {},
     "output_type": "execute_result"
    }
   ],
   "source": [
    "aa"
   ]
  },
  {
   "cell_type": "code",
   "execution_count": 103,
   "id": "d735657c",
   "metadata": {},
   "outputs": [
    {
     "ename": "TypeError",
     "evalue": "'<class 'jaxlib.xla_extension.Array'>' object does not support item assignment. JAX arrays are immutable. Instead of ``x[idx] = y``, use ``x = x.at[idx].set(y)`` or another .at[] method: https://jax.readthedocs.io/en/latest/_autosummary/jax.numpy.ndarray.at.html",
     "output_type": "error",
     "traceback": [
      "\u001b[0;31m---------------------------------------------------------------------------\u001b[0m",
      "\u001b[0;31mTypeError\u001b[0m                                 Traceback (most recent call last)",
      "Input \u001b[0;32mIn [103]\u001b[0m, in \u001b[0;36m<cell line: 1>\u001b[0;34m()\u001b[0m\n\u001b[0;32m----> 1\u001b[0m aa[\u001b[38;5;241m0\u001b[39m:\u001b[38;5;241m2\u001b[39m] \u001b[38;5;241m=\u001b[39m np\u001b[38;5;241m.\u001b[39marray([\u001b[38;5;241m6\u001b[39m,\u001b[38;5;241m7\u001b[39m])\n",
      "File \u001b[0;32m~/Desktop/Research/Adversary-CBF/venv/lib/python3.8/site-packages/jax/_src/numpy/lax_numpy.py:4960\u001b[0m, in \u001b[0;36m_unimplemented_setitem\u001b[0;34m(self, i, x)\u001b[0m\n\u001b[1;32m   4955\u001b[0m \u001b[38;5;28;01mdef\u001b[39;00m \u001b[38;5;21m_unimplemented_setitem\u001b[39m(\u001b[38;5;28mself\u001b[39m, i, x):\n\u001b[1;32m   4956\u001b[0m   msg \u001b[38;5;241m=\u001b[39m (\u001b[38;5;124m\"\u001b[39m\u001b[38;5;124m'\u001b[39m\u001b[38;5;132;01m{}\u001b[39;00m\u001b[38;5;124m'\u001b[39m\u001b[38;5;124m object does not support item assignment. JAX arrays are \u001b[39m\u001b[38;5;124m\"\u001b[39m\n\u001b[1;32m   4957\u001b[0m          \u001b[38;5;124m\"\u001b[39m\u001b[38;5;124mimmutable. Instead of ``x[idx] = y``, use ``x = x.at[idx].set(y)`` \u001b[39m\u001b[38;5;124m\"\u001b[39m\n\u001b[1;32m   4958\u001b[0m          \u001b[38;5;124m\"\u001b[39m\u001b[38;5;124mor another .at[] method: \u001b[39m\u001b[38;5;124m\"\u001b[39m\n\u001b[1;32m   4959\u001b[0m          \u001b[38;5;124m\"\u001b[39m\u001b[38;5;124mhttps://jax.readthedocs.io/en/latest/_autosummary/jax.numpy.ndarray.at.html\u001b[39m\u001b[38;5;124m\"\u001b[39m)\n\u001b[0;32m-> 4960\u001b[0m   \u001b[38;5;28;01mraise\u001b[39;00m \u001b[38;5;167;01mTypeError\u001b[39;00m(msg\u001b[38;5;241m.\u001b[39mformat(\u001b[38;5;28mtype\u001b[39m(\u001b[38;5;28mself\u001b[39m)))\n",
      "\u001b[0;31mTypeError\u001b[0m: '<class 'jaxlib.xla_extension.Array'>' object does not support item assignment. JAX arrays are immutable. Instead of ``x[idx] = y``, use ``x = x.at[idx].set(y)`` or another .at[] method: https://jax.readthedocs.io/en/latest/_autosummary/jax.numpy.ndarray.at.html"
     ]
    }
   ],
   "source": [
    "aa[0:2] = np.array([6,7])"
   ]
  },
  {
   "cell_type": "code",
   "execution_count": 105,
   "id": "7d0803f4",
   "metadata": {},
   "outputs": [
    {
     "data": {
      "text/plain": [
       "Array([1, 2, 3, 4, 5], dtype=int64)"
      ]
     },
     "execution_count": 105,
     "metadata": {},
     "output_type": "execute_result"
    }
   ],
   "source": [
    "np.append(aa,np.array([5]))"
   ]
  },
  {
   "cell_type": "code",
   "execution_count": 106,
   "id": "a3e6efa1",
   "metadata": {},
   "outputs": [],
   "source": [
    "aa = np.append(aa,np.array([5]))"
   ]
  },
  {
   "cell_type": "code",
   "execution_count": 107,
   "id": "f4719966",
   "metadata": {},
   "outputs": [
    {
     "data": {
      "text/plain": [
       "Array([1, 2, 3, 4, 5], dtype=int64)"
      ]
     },
     "execution_count": 107,
     "metadata": {},
     "output_type": "execute_result"
    }
   ],
   "source": [
    "aa"
   ]
  },
  {
   "cell_type": "code",
   "execution_count": 108,
   "id": "54a973b9",
   "metadata": {},
   "outputs": [],
   "source": [
    "aa = np.append(aa,np.array([5]))"
   ]
  },
  {
   "cell_type": "code",
   "execution_count": 109,
   "id": "e3f08683",
   "metadata": {},
   "outputs": [
    {
     "data": {
      "text/plain": [
       "Array([1, 2, 3, 4, 5, 5], dtype=int64)"
      ]
     },
     "execution_count": 109,
     "metadata": {},
     "output_type": "execute_result"
    }
   ],
   "source": [
    "aa"
   ]
  },
  {
   "cell_type": "code",
   "execution_count": 111,
   "id": "2ea5d33f",
   "metadata": {},
   "outputs": [
    {
     "ename": "TypeError",
     "evalue": "'<class 'jaxlib.xla_extension.Array'>' object does not support item assignment. JAX arrays are immutable. Instead of ``x[idx] = y``, use ``x = x.at[idx].set(y)`` or another .at[] method: https://jax.readthedocs.io/en/latest/_autosummary/jax.numpy.ndarray.at.html",
     "output_type": "error",
     "traceback": [
      "\u001b[0;31m---------------------------------------------------------------------------\u001b[0m",
      "\u001b[0;31mTypeError\u001b[0m                                 Traceback (most recent call last)",
      "Input \u001b[0;32mIn [111]\u001b[0m, in \u001b[0;36m<cell line: 1>\u001b[0;34m()\u001b[0m\n\u001b[0;32m----> 1\u001b[0m aa[\u001b[38;5;241m0\u001b[39m] \u001b[38;5;241m=\u001b[39m \u001b[38;5;241m8\u001b[39m\n",
      "File \u001b[0;32m~/Desktop/Research/Adversary-CBF/venv/lib/python3.8/site-packages/jax/_src/numpy/lax_numpy.py:4960\u001b[0m, in \u001b[0;36m_unimplemented_setitem\u001b[0;34m(self, i, x)\u001b[0m\n\u001b[1;32m   4955\u001b[0m \u001b[38;5;28;01mdef\u001b[39;00m \u001b[38;5;21m_unimplemented_setitem\u001b[39m(\u001b[38;5;28mself\u001b[39m, i, x):\n\u001b[1;32m   4956\u001b[0m   msg \u001b[38;5;241m=\u001b[39m (\u001b[38;5;124m\"\u001b[39m\u001b[38;5;124m'\u001b[39m\u001b[38;5;132;01m{}\u001b[39;00m\u001b[38;5;124m'\u001b[39m\u001b[38;5;124m object does not support item assignment. JAX arrays are \u001b[39m\u001b[38;5;124m\"\u001b[39m\n\u001b[1;32m   4957\u001b[0m          \u001b[38;5;124m\"\u001b[39m\u001b[38;5;124mimmutable. Instead of ``x[idx] = y``, use ``x = x.at[idx].set(y)`` \u001b[39m\u001b[38;5;124m\"\u001b[39m\n\u001b[1;32m   4958\u001b[0m          \u001b[38;5;124m\"\u001b[39m\u001b[38;5;124mor another .at[] method: \u001b[39m\u001b[38;5;124m\"\u001b[39m\n\u001b[1;32m   4959\u001b[0m          \u001b[38;5;124m\"\u001b[39m\u001b[38;5;124mhttps://jax.readthedocs.io/en/latest/_autosummary/jax.numpy.ndarray.at.html\u001b[39m\u001b[38;5;124m\"\u001b[39m)\n\u001b[0;32m-> 4960\u001b[0m   \u001b[38;5;28;01mraise\u001b[39;00m \u001b[38;5;167;01mTypeError\u001b[39;00m(msg\u001b[38;5;241m.\u001b[39mformat(\u001b[38;5;28mtype\u001b[39m(\u001b[38;5;28mself\u001b[39m)))\n",
      "\u001b[0;31mTypeError\u001b[0m: '<class 'jaxlib.xla_extension.Array'>' object does not support item assignment. JAX arrays are immutable. Instead of ``x[idx] = y``, use ``x = x.at[idx].set(y)`` or another .at[] method: https://jax.readthedocs.io/en/latest/_autosummary/jax.numpy.ndarray.at.html"
     ]
    }
   ],
   "source": [
    "aa[0] = 8"
   ]
  },
  {
   "cell_type": "code",
   "execution_count": 114,
   "id": "f9439ac8",
   "metadata": {},
   "outputs": [
    {
     "data": {
      "text/plain": [
       "Array([1, 2, 3, 4, 5, 5, 5, 8], dtype=int64)"
      ]
     },
     "execution_count": 114,
     "metadata": {},
     "output_type": "execute_result"
    }
   ],
   "source": [
    "np.append(aa,np.array([5,8]))"
   ]
  },
  {
   "cell_type": "code",
   "execution_count": 115,
   "id": "109a9667",
   "metadata": {},
   "outputs": [],
   "source": [
    "a = np.array([5])"
   ]
  },
  {
   "cell_type": "code",
   "execution_count": 116,
   "id": "1a2f4506",
   "metadata": {},
   "outputs": [],
   "source": [
    "a = a + 4"
   ]
  },
  {
   "cell_type": "code",
   "execution_count": 117,
   "id": "55400dc8",
   "metadata": {},
   "outputs": [
    {
     "data": {
      "text/plain": [
       "Array([9], dtype=int64)"
      ]
     },
     "execution_count": 117,
     "metadata": {},
     "output_type": "execute_result"
    }
   ],
   "source": [
    "a"
   ]
  },
  {
   "cell_type": "code",
   "execution_count": null,
   "id": "5ad6b05e",
   "metadata": {},
   "outputs": [],
   "source": []
  }
 ],
 "metadata": {
  "kernelspec": {
   "display_name": "Python 3 (ipykernel)",
   "language": "python",
   "name": "python3"
  },
  "language_info": {
   "codemirror_mode": {
    "name": "ipython",
    "version": 3
   },
   "file_extension": ".py",
   "mimetype": "text/x-python",
   "name": "python",
   "nbconvert_exporter": "python",
   "pygments_lexer": "ipython3",
   "version": "3.8.16"
  }
 },
 "nbformat": 4,
 "nbformat_minor": 5
}
